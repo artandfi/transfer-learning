{
  "cells": [
    {
      "cell_type": "markdown",
      "metadata": {
        "id": "yK0J56Jvd8XI"
      },
      "source": [
        "# Lab2 - Transfer Learning\n",
        "### Artem Fisunenko, MI-4"
      ]
    },
    {
      "cell_type": "markdown",
      "metadata": {
        "id": "1khxQG3dd2yz"
      },
      "source": [
        "#### Installations\n"
      ]
    },
    {
      "cell_type": "code",
      "execution_count": 1,
      "metadata": {
        "id": "YmcObg24WD9k"
      },
      "outputs": [],
      "source": [
        "#%pip install tensorflow==2.1.0\n",
        "#%pip install segmentation-models\n",
        "#%pip install h5py==2.10.0\n",
        "#%pip install pandas\n",
        "#%pip install numpy\n",
        "#%pip install matplotlib\n",
        "#%pip install keras==2.3.1\n",
        "#%pip install pandas\n",
        "#%pip install tensorflow_datasets\n",
        "#%pip install seaborn\n",
        "#%pip install sklearn"
      ]
    },
    {
      "cell_type": "markdown",
      "metadata": {
        "id": "kJutBzKHd040"
      },
      "source": [
        "#### Imports"
      ]
    },
    {
      "cell_type": "code",
      "execution_count": 2,
      "metadata": {
        "id": "fQjO0dt4aiSR"
      },
      "outputs": [],
      "source": [
        "import tensorflow as tf\n",
        "import numpy as np\n",
        "import tensorflow_datasets as tfds\n",
        "import matplotlib.pyplot as plt\n",
        "import seaborn as sns\n",
        "from tensorflow.keras.utils import to_categorical\n",
        "from tensorflow.keras.applications.vgg19 import VGG19\n",
        "from tensorflow.keras.applications.vgg19 import preprocess_input\n",
        "from tensorflow.keras import layers, models\n",
        "from keras.models import Sequential\n",
        "from keras.layers import GlobalAveragePooling2D, Dropout, Dense\n",
        "from tensorflow.keras.callbacks import EarlyStopping, ReduceLROnPlateau\n",
        "from sklearn.metrics import accuracy_score, confusion_matrix\n",
        "%matplotlib inline"
      ]
    },
    {
      "cell_type": "markdown",
      "metadata": {
        "id": "zlHl1EVsbE4m"
      },
      "source": [
        "#### Loading data"
      ]
    },
    {
      "cell_type": "code",
      "execution_count": 3,
      "metadata": {
        "id": "yjAb3Lc9a5xi",
        "colab": {
          "base_uri": "https://localhost:8080/",
          "height": 312,
          "referenced_widgets": [
            "b23202648beb41cf91e3d0e2bc85f1a0",
            "afcb6ff5f645413797ff1b585424ae10",
            "57072194d53a49c7bf6b39ef7ca2f64a",
            "a4745be7f8d84197a6c89c96f965bf8d",
            "9318ae75bbb54189bfbba4c41ba49123",
            "408e9cdf35e841cabb8c971209ddb763",
            "7926051caa904bee83b2456e62d0e0be",
            "b45dd4d8068847a6afa28dfc90371a4f",
            "1ba1f53cd6e34bd6a30659d5cc5575a9",
            "4a6033c8c6c84e8e839dff97ed2579c9",
            "27b3d03bf35144759b5fbec0d41565b4"
          ]
        },
        "outputId": "ed02a923-d3d5-43a4-e56f-3d255e4bb2ab"
      },
      "outputs": [
        {
          "output_type": "stream",
          "name": "stdout",
          "text": [
            "\u001b[1mDownloading and preparing dataset tf_flowers/3.0.1 (download: 218.21 MiB, generated: 221.83 MiB, total: 440.05 MiB) to /root/tensorflow_datasets/tf_flowers/3.0.1...\u001b[0m\n"
          ]
        },
        {
          "output_type": "stream",
          "name": "stderr",
          "text": [
            "WARNING:absl:Dataset tf_flowers is hosted on GCS. It will automatically be downloaded to your\n",
            "local data directory. If you'd instead prefer to read directly from our public\n",
            "GCS bucket (recommended if you're running on GCP), you can instead pass\n",
            "`try_gcs=True` to `tfds.load` or set `data_dir=gs://tfds-data/datasets`.\n",
            "\n"
          ]
        },
        {
          "output_type": "display_data",
          "data": {
            "text/plain": [
              "Dl Completed...:   0%|          | 0/5 [00:00<?, ? file/s]"
            ],
            "application/vnd.jupyter.widget-view+json": {
              "version_major": 2,
              "version_minor": 0,
              "model_id": "b23202648beb41cf91e3d0e2bc85f1a0"
            }
          },
          "metadata": {}
        },
        {
          "output_type": "stream",
          "name": "stdout",
          "text": [
            "\n",
            "\u001b[1mDataset tf_flowers downloaded and prepared to /root/tensorflow_datasets/tf_flowers/3.0.1. Subsequent calls will reuse this data.\u001b[0m\n",
            "WARNING:tensorflow:From /usr/local/lib/python3.7/dist-packages/tensorflow_datasets/core/dataset_builder.py:598: get_single_element (from tensorflow.python.data.experimental.ops.get_single_element) is deprecated and will be removed in a future version.\n",
            "Instructions for updating:\n",
            "Use `tf.data.Dataset.get_single_element()`.\n"
          ]
        },
        {
          "output_type": "stream",
          "name": "stderr",
          "text": [
            "WARNING:tensorflow:From /usr/local/lib/python3.7/dist-packages/tensorflow_datasets/core/dataset_builder.py:598: get_single_element (from tensorflow.python.data.experimental.ops.get_single_element) is deprecated and will be removed in a future version.\n",
            "Instructions for updating:\n",
            "Use `tf.data.Dataset.get_single_element()`.\n"
          ]
        }
      ],
      "source": [
        "(x_train, y_train), (x_test, y_test) = tfds.load(\n",
        "    \"tf_flowers\",\n",
        "    split=[\"train[:70%]\", \"train[:30%]\"],\n",
        "    batch_size=-1,\n",
        "    as_supervised=True,  # Include labels\n",
        ")"
      ]
    },
    {
      "cell_type": "markdown",
      "metadata": {
        "id": "_rclnCwNbIt1"
      },
      "source": [
        "#### Preprocessing data"
      ]
    },
    {
      "cell_type": "code",
      "execution_count": 4,
      "metadata": {
        "id": "AxyOSo21bMYc"
      },
      "outputs": [],
      "source": [
        "from sklearn import preprocessing\n",
        "\n",
        "le = preprocessing.LabelEncoder()\n",
        "le.fit(y_test)\n",
        "test_labels_encoded = le.transform(y_test)\n",
        "le.fit(y_train)\n",
        "train_labels_encoded = le.transform(y_train)\n",
        "\n",
        "size = (224, 224)\n",
        "\n",
        "x_train = tf.image.resize(x_train, size)\n",
        "x_test = tf.image.resize(x_test, size)\n",
        "x_train /= 255.0\n",
        "x_test /= 255.0\n",
        "\n",
        "y_train_one_hot = to_categorical(y_train, num_classes=5)\n",
        "y_test_one_hot = to_categorical(y_test, num_classes=5)\n",
        "\n",
        "x_train = preprocess_input(x_train)\n",
        "x_test = preprocess_input(x_test)"
      ]
    },
    {
      "cell_type": "markdown",
      "metadata": {
        "id": "mzBcfHGabfIq"
      },
      "source": [
        "#### Constructing base model"
      ]
    },
    {
      "cell_type": "code",
      "execution_count": 5,
      "metadata": {
        "id": "JfKvK2YkbiXM",
        "colab": {
          "base_uri": "https://localhost:8080/"
        },
        "outputId": "0d6d89e1-4e6b-44e0-99d5-fed4f110c75a"
      },
      "outputs": [
        {
          "output_type": "stream",
          "name": "stdout",
          "text": [
            "Downloading data from https://storage.googleapis.com/tensorflow/keras-applications/vgg19/vgg19_weights_tf_dim_ordering_tf_kernels_notop.h5\n",
            "80142336/80134624 [==============================] - 1s 0us/step\n",
            "80150528/80134624 [==============================] - 1s 0us/step\n"
          ]
        }
      ],
      "source": [
        "base_model = VGG19(weights=\"imagenet\", include_top=False, input_shape=(224, 224, 3))\n",
        "base_model.trainable = False"
      ]
    },
    {
      "cell_type": "markdown",
      "metadata": {
        "id": "764Trbl7R4LC"
      },
      "source": [
        "#### Feature extraction"
      ]
    },
    {
      "cell_type": "code",
      "execution_count": 6,
      "metadata": {
        "id": "UeEiRtKZRprE"
      },
      "outputs": [],
      "source": [
        "feature_extractor = base_model.predict(x_train)\n",
        "x_w_features = feature_extractor.reshape(feature_extractor.shape[0], -1)\n",
        "\n",
        "x_test_feature = base_model.predict(x_test)\n",
        "x_test_features = x_test_feature.reshape(x_test_feature.shape[0], -1)"
      ]
    },
    {
      "cell_type": "markdown",
      "metadata": {
        "id": "N2S3GQU5SPDm"
      },
      "source": [
        "#### Random Forest"
      ]
    },
    {
      "cell_type": "code",
      "execution_count": 7,
      "metadata": {
        "colab": {
          "base_uri": "https://localhost:8080/"
        },
        "id": "DhZHwXCwSQ5o",
        "outputId": "e5c5c6d3-e9d4-4043-d674-8ac4d8e2629d"
      },
      "outputs": [
        {
          "output_type": "execute_result",
          "data": {
            "text/plain": [
              "RandomForestClassifier(n_estimators=5)"
            ]
          },
          "metadata": {},
          "execution_count": 7
        }
      ],
      "source": [
        "from sklearn.ensemble import RandomForestClassifier\n",
        "\n",
        "model = RandomForestClassifier(n_estimators=5)\n",
        "model.fit(x_w_features, y_train)"
      ]
    },
    {
      "cell_type": "markdown",
      "metadata": {
        "id": "ehNUQ2pDUwol"
      },
      "source": [
        "#### Model's prediction"
      ]
    },
    {
      "cell_type": "code",
      "execution_count": 8,
      "metadata": {
        "id": "3r_NxP-kUwM-"
      },
      "outputs": [],
      "source": [
        "prediction = model.predict(x_test_features)\n",
        "prediction = le.inverse_transform(prediction)"
      ]
    },
    {
      "cell_type": "markdown",
      "metadata": {
        "id": "Ajad4kgbVOeb"
      },
      "source": [
        "#### Accuracy"
      ]
    },
    {
      "cell_type": "code",
      "execution_count": 9,
      "metadata": {
        "colab": {
          "base_uri": "https://localhost:8080/"
        },
        "id": "PH-p5sFTVQX3",
        "outputId": "ae4e644c-6a9f-45dc-d711-36aabd7e4375"
      },
      "outputs": [
        {
          "output_type": "stream",
          "name": "stdout",
          "text": [
            "Accuracy: 93.19%\n"
          ]
        }
      ],
      "source": [
        "print(f\"Accuracy: {round(accuracy_score(y_test, prediction)*100, 2)}%\")"
      ]
    },
    {
      "cell_type": "markdown",
      "metadata": {
        "id": "cQHeVcxYdJTq"
      },
      "source": [
        "#### Confusion matrix"
      ]
    },
    {
      "cell_type": "code",
      "execution_count": 10,
      "metadata": {
        "colab": {
          "base_uri": "https://localhost:8080/",
          "height": 382
        },
        "id": "CIc-m9h-dLK7",
        "outputId": "a86e5bba-847b-4028-854f-4f42c6c85944"
      },
      "outputs": [
        {
          "output_type": "execute_result",
          "data": {
            "text/plain": [
              "[Text(0, 0.5, 'dandelion'),\n",
              " Text(0, 1.5, 'daisy'),\n",
              " Text(0, 2.5, 'tulips'),\n",
              " Text(0, 3.5, 'sunflowers'),\n",
              " Text(0, 4.5, 'roses')]"
            ]
          },
          "metadata": {},
          "execution_count": 10
        },
        {
          "output_type": "display_data",
          "data": {
            "text/plain": [
              "<Figure size 432x288 with 2 Axes>"
            ],
            "image/png": "[encoded data removed]"
          },
          "metadata": {
            "needs_background": "light"
          }
        }
      ],
      "source": [
        "cm = confusion_matrix(y_test, prediction)\n",
        "ax = plt.subplot()\n",
        "sns.heatmap(cm, annot=True, fmt='g', ax=ax, cmap='BuPu')\n",
        "\n",
        "# labels, title and ticks\n",
        "ax.set_xlabel('Predicted labels')\n",
        "ax.set_ylabel('True labels')\n",
        "ax.set_title('VGG16/ImageNet - Confusion Matrix')\n",
        "\n",
        "classes = ['dandelion', 'daisy', 'tulips', 'sunflowers', 'roses']\n",
        "ax.xaxis.set_ticklabels(classes)\n",
        "ax.yaxis.set_ticklabels(classes)"
      ]
    },
    {
      "cell_type": "markdown",
      "metadata": {
        "id": "SktUDFlPVAhi"
      },
      "source": [
        "#### Scatterplot"
      ]
    },
    {
      "cell_type": "code",
      "execution_count": 11,
      "metadata": {
        "colab": {
          "base_uri": "https://localhost:8080/",
          "height": 319
        },
        "id": "FnfKsmiEVCFR",
        "outputId": "f0bfa482-e48e-4695-9b29-91fada3aa18f"
      },
      "outputs": [
        {
          "output_type": "display_data",
          "data": {
            "text/plain": [
              "<Figure size 1800x1440 with 1 Axes>"
            ],
            "image/png": "[encoded data removed]"
          },
          "metadata": {
            "needs_background": "light"
          }
        }
      ],
      "source": [
        "import random\n",
        "cm = np.transpose(cm)\n",
        "X = []\n",
        "Y = []\n",
        "\n",
        "for col in cm:\n",
        "    data_x, data_y = [], []\n",
        "\n",
        "    for j, count in enumerate(col):\n",
        "        radius = 0.35\n",
        "        rnd = [random.random() * 2 * np.pi for _ in range(count)]\n",
        "        data_x.extend([radius * (random.random() ** 0.5) * np.cos(rnd[_]) + j for _ in range(count)])\n",
        "        data_y.extend([radius * (random.random() ** 0.5) * np.sin(rnd[_]) + 0.5 for _ in range(count)])\n",
        "    \n",
        "    X.append(data_x)\n",
        "    Y.append(data_y)\n",
        "\n",
        "for i in range(len(X)):\n",
        "    plt.scatter(X[i], Y[i], label=classes[i])\n",
        "\n",
        "plt.style.use('default')\n",
        "ax = plt.gca()\n",
        "ax.get_yaxis().set_visible(False)\n",
        "fig = plt.gcf()\n",
        "fig.set_size_inches(25, 20, forward=True)\n",
        "plt.gca().set_aspect('equal', adjustable='box')\n",
        "plt.ylim(0, 1)\n",
        "plt.legend()\n",
        "plt.xticks(np.arange(5), classes)\n",
        "plt.show()"
      ]
    }
  ],
  "metadata": {
    "accelerator": "GPU",
    "colab": {
      "collapsed_sections": [],
      "name": "Lab2_VGG19_Random_Forest.ipynb",
      "provenance": []
    },
    "kernelspec": {
      "display_name": "Python 3",
      "name": "python3"
    },
    "language_info": {
      "name": "python"
    },
    "widgets": {
      "application/vnd.jupyter.widget-state+json": {
        "b23202648beb41cf91e3d0e2bc85f1a0": {
          "model_module": "@jupyter-widgets/controls",
          "model_name": "HBoxModel",
          "model_module_version": "1.5.0",
          "state": {
            "_dom_classes": [],
            "_model_module": "@jupyter-widgets/controls",
            "_model_module_version": "1.5.0",
            "_model_name": "HBoxModel",
            "_view_count": null,
            "_view_module": "@jupyter-widgets/controls",
            "_view_module_version": "1.5.0",
            "_view_name": "HBoxView",
            "box_style": "",
            "children": [
              "IPY_MODEL_afcb6ff5f645413797ff1b585424ae10",
              "IPY_MODEL_57072194d53a49c7bf6b39ef7ca2f64a",
              "IPY_MODEL_a4745be7f8d84197a6c89c96f965bf8d"
            ],
            "layout": "IPY_MODEL_9318ae75bbb54189bfbba4c41ba49123"
          }
        },
        "afcb6ff5f645413797ff1b585424ae10": {
          "model_module": "@jupyter-widgets/controls",
          "model_name": "HTMLModel",
          "model_module_version": "1.5.0",
          "state": {
            "_dom_classes": [],
            "_model_module": "@jupyter-widgets/controls",
            "_model_module_version": "1.5.0",
            "_model_name": "HTMLModel",
            "_view_count": null,
            "_view_module": "@jupyter-widgets/controls",
            "_view_module_version": "1.5.0",
            "_view_name": "HTMLView",
            "description": "",
            "description_tooltip": null,
            "layout": "IPY_MODEL_408e9cdf35e841cabb8c971209ddb763",
            "placeholder": "​",
            "style": "IPY_MODEL_7926051caa904bee83b2456e62d0e0be",
            "value": "Dl Completed...: 100%"
          }
        },
        "57072194d53a49c7bf6b39ef7ca2f64a": {
          "model_module": "@jupyter-widgets/controls",
          "model_name": "FloatProgressModel",
          "model_module_version": "1.5.0",
          "state": {
            "_dom_classes": [],
            "_model_module": "@jupyter-widgets/controls",
            "_model_module_version": "1.5.0",
            "_model_name": "FloatProgressModel",
            "_view_count": null,
            "_view_module": "@jupyter-widgets/controls",
            "_view_module_version": "1.5.0",
            "_view_name": "ProgressView",
            "bar_style": "success",
            "description": "",
            "description_tooltip": null,
            "layout": "IPY_MODEL_b45dd4d8068847a6afa28dfc90371a4f",
            "max": 5,
            "min": 0,
            "orientation": "horizontal",
            "style": "IPY_MODEL_1ba1f53cd6e34bd6a30659d5cc5575a9",
            "value": 5
          }
        },
        "a4745be7f8d84197a6c89c96f965bf8d": {
          "model_module": "@jupyter-widgets/controls",
          "model_name": "HTMLModel",
          "model_module_version": "1.5.0",
          "state": {
            "_dom_classes": [],
            "_model_module": "@jupyter-widgets/controls",
            "_model_module_version": "1.5.0",
            "_model_name": "HTMLModel",
            "_view_count": null,
            "_view_module": "@jupyter-widgets/controls",
            "_view_module_version": "1.5.0",
            "_view_name": "HTMLView",
            "description": "",
            "description_tooltip": null,
            "layout": "IPY_MODEL_4a6033c8c6c84e8e839dff97ed2579c9",
            "placeholder": "​",
            "style": "IPY_MODEL_27b3d03bf35144759b5fbec0d41565b4",
            "value": " 5/5 [00:01&lt;00:00,  2.97 file/s]"
          }
        },
        "9318ae75bbb54189bfbba4c41ba49123": {
          "model_module": "@jupyter-widgets/base",
          "model_name": "LayoutModel",
          "model_module_version": "1.2.0",
          "state": {
            "_model_module": "@jupyter-widgets/base",
            "_model_module_version": "1.2.0",
            "_model_name": "LayoutModel",
            "_view_count": null,
            "_view_module": "@jupyter-widgets/base",
            "_view_module_version": "1.2.0",
            "_view_name": "LayoutView",
            "align_content": null,
            "align_items": null,
            "align_self": null,
            "border": null,
            "bottom": null,
            "display": null,
            "flex": null,
            "flex_flow": null,
            "grid_area": null,
            "grid_auto_columns": null,
            "grid_auto_flow": null,
            "grid_auto_rows": null,
            "grid_column": null,
            "grid_gap": null,
            "grid_row": null,
            "grid_template_areas": null,
            "grid_template_columns": null,
            "grid_template_rows": null,
            "height": null,
            "justify_content": null,
            "justify_items": null,
            "left": null,
            "margin": null,
            "max_height": null,
            "max_width": null,
            "min_height": null,
            "min_width": null,
            "object_fit": null,
            "object_position": null,
            "order": null,
            "overflow": null,
            "overflow_x": null,
            "overflow_y": null,
            "padding": null,
            "right": null,
            "top": null,
            "visibility": null,
            "width": null
          }
        },
        "408e9cdf35e841cabb8c971209ddb763": {
          "model_module": "@jupyter-widgets/base",
          "model_name": "LayoutModel",
          "model_module_version": "1.2.0",
          "state": {
            "_model_module": "@jupyter-widgets/base",
            "_model_module_version": "1.2.0",
            "_model_name": "LayoutModel",
            "_view_count": null,
            "_view_module": "@jupyter-widgets/base",
            "_view_module_version": "1.2.0",
            "_view_name": "LayoutView",
            "align_content": null,
            "align_items": null,
            "align_self": null,
            "border": null,
            "bottom": null,
            "display": null,
            "flex": null,
            "flex_flow": null,
            "grid_area": null,
            "grid_auto_columns": null,
            "grid_auto_flow": null,
            "grid_auto_rows": null,
            "grid_column": null,
            "grid_gap": null,
            "grid_row": null,
            "grid_template_areas": null,
            "grid_template_columns": null,
            "grid_template_rows": null,
            "height": null,
            "justify_content": null,
            "justify_items": null,
            "left": null,
            "margin": null,
            "max_height": null,
            "max_width": null,
            "min_height": null,
            "min_width": null,
            "object_fit": null,
            "object_position": null,
            "order": null,
            "overflow": null,
            "overflow_x": null,
            "overflow_y": null,
            "padding": null,
            "right": null,
            "top": null,
            "visibility": null,
            "width": null
          }
        },
        "7926051caa904bee83b2456e62d0e0be": {
          "model_module": "@jupyter-widgets/controls",
          "model_name": "DescriptionStyleModel",
          "model_module_version": "1.5.0",
          "state": {
            "_model_module": "@jupyter-widgets/controls",
            "_model_module_version": "1.5.0",
            "_model_name": "DescriptionStyleModel",
            "_view_count": null,
            "_view_module": "@jupyter-widgets/base",
            "_view_module_version": "1.2.0",
            "_view_name": "StyleView",
            "description_width": ""
          }
        },
        "b45dd4d8068847a6afa28dfc90371a4f": {
          "model_module": "@jupyter-widgets/base",
          "model_name": "LayoutModel",
          "model_module_version": "1.2.0",
          "state": {
            "_model_module": "@jupyter-widgets/base",
            "_model_module_version": "1.2.0",
            "_model_name": "LayoutModel",
            "_view_count": null,
            "_view_module": "@jupyter-widgets/base",
            "_view_module_version": "1.2.0",
            "_view_name": "LayoutView",
            "align_content": null,
            "align_items": null,
            "align_self": null,
            "border": null,
            "bottom": null,
            "display": null,
            "flex": null,
            "flex_flow": null,
            "grid_area": null,
            "grid_auto_columns": null,
            "grid_auto_flow": null,
            "grid_auto_rows": null,
            "grid_column": null,
            "grid_gap": null,
            "grid_row": null,
            "grid_template_areas": null,
            "grid_template_columns": null,
            "grid_template_rows": null,
            "height": null,
            "justify_content": null,
            "justify_items": null,
            "left": null,
            "margin": null,
            "max_height": null,
            "max_width": null,
            "min_height": null,
            "min_width": null,
            "object_fit": null,
            "object_position": null,
            "order": null,
            "overflow": null,
            "overflow_x": null,
            "overflow_y": null,
            "padding": null,
            "right": null,
            "top": null,
            "visibility": null,
            "width": null
          }
        },
        "1ba1f53cd6e34bd6a30659d5cc5575a9": {
          "model_module": "@jupyter-widgets/controls",
          "model_name": "ProgressStyleModel",
          "model_module_version": "1.5.0",
          "state": {
            "_model_module": "@jupyter-widgets/controls",
            "_model_module_version": "1.5.0",
            "_model_name": "ProgressStyleModel",
            "_view_count": null,
            "_view_module": "@jupyter-widgets/base",
            "_view_module_version": "1.2.0",
            "_view_name": "StyleView",
            "bar_color": null,
            "description_width": ""
          }
        },
        "4a6033c8c6c84e8e839dff97ed2579c9": {
          "model_module": "@jupyter-widgets/base",
          "model_name": "LayoutModel",
          "model_module_version": "1.2.0",
          "state": {
            "_model_module": "@jupyter-widgets/base",
            "_model_module_version": "1.2.0",
            "_model_name": "LayoutModel",
            "_view_count": null,
            "_view_module": "@jupyter-widgets/base",
            "_view_module_version": "1.2.0",
            "_view_name": "LayoutView",
            "align_content": null,
            "align_items": null,
            "align_self": null,
            "border": null,
            "bottom": null,
            "display": null,
            "flex": null,
            "flex_flow": null,
            "grid_area": null,
            "grid_auto_columns": null,
            "grid_auto_flow": null,
            "grid_auto_rows": null,
            "grid_column": null,
            "grid_gap": null,
            "grid_row": null,
            "grid_template_areas": null,
            "grid_template_columns": null,
            "grid_template_rows": null,
            "height": null,
            "justify_content": null,
            "justify_items": null,
            "left": null,
            "margin": null,
            "max_height": null,
            "max_width": null,
            "min_height": null,
            "min_width": null,
            "object_fit": null,
            "object_position": null,
            "order": null,
            "overflow": null,
            "overflow_x": null,
            "overflow_y": null,
            "padding": null,
            "right": null,
            "top": null,
            "visibility": null,
            "width": null
          }
        },
        "27b3d03bf35144759b5fbec0d41565b4": {
          "model_module": "@jupyter-widgets/controls",
          "model_name": "DescriptionStyleModel",
          "model_module_version": "1.5.0",
          "state": {
            "_model_module": "@jupyter-widgets/controls",
            "_model_module_version": "1.5.0",
            "_model_name": "DescriptionStyleModel",
            "_view_count": null,
            "_view_module": "@jupyter-widgets/base",
            "_view_module_version": "1.2.0",
            "_view_name": "StyleView",
            "description_width": ""
          }
        }
      }
    }
  },
  "nbformat": 4,
  "nbformat_minor": 0
}